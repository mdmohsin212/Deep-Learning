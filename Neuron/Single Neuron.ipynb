{
 "cells": [
  {
   "cell_type": "code",
   "execution_count": 2,
   "id": "b48bd709",
   "metadata": {},
   "outputs": [],
   "source": [
    "import math"
   ]
  },
  {
   "cell_type": "markdown",
   "id": "12b2489a",
   "metadata": {},
   "source": [
    "##### Activation Function (Sigmoid)"
   ]
  },
  {
   "cell_type": "code",
   "execution_count": 4,
   "id": "6409ca51",
   "metadata": {},
   "outputs": [],
   "source": [
    "def sigmoid(x):\n",
    "    return 1 / (1 + math.exp(-x))"
   ]
  },
  {
   "cell_type": "markdown",
   "id": "d9539112",
   "metadata": {},
   "source": [
    "##### Feedforward :\n",
    "1. Claculates the weighted sum of input plus the bias\n",
    "2. Applies the sigmoid function to the total"
   ]
  },
  {
   "cell_type": "code",
   "execution_count": 5,
   "id": "db11b3a4",
   "metadata": {},
   "outputs": [],
   "source": [
    "def feedforward(input, weights, bias):\n",
    "    total = sum(w * x for w, x in zip(weights, input)) + bias\n",
    "    return sigmoid(total)"
   ]
  },
  {
   "cell_type": "code",
   "execution_count": 6,
   "id": "c9ae381f",
   "metadata": {},
   "outputs": [],
   "source": [
    "def classify(output, threhold=0.5):\n",
    "    return 1 if output > threhold else 0"
   ]
  },
  {
   "cell_type": "code",
   "execution_count": 13,
   "id": "0e0ae9e5",
   "metadata": {},
   "outputs": [
    {
     "name": "stdout",
     "output_type": "stream",
     "text": [
      "Output of the neuron : 0.9706877692486436\n"
     ]
    }
   ],
   "source": [
    "b = 0.5\n",
    "w = [0, 1]\n",
    "x = [2, 3]\n",
    "\n",
    "y = feedforward(x, w, b)\n",
    "print(\"Output of the neuron :\", y)"
   ]
  },
  {
   "cell_type": "code",
   "execution_count": 14,
   "id": "b4ed07ae",
   "metadata": {},
   "outputs": [
    {
     "data": {
      "text/plain": [
       "1"
      ]
     },
     "execution_count": 14,
     "metadata": {},
     "output_type": "execute_result"
    }
   ],
   "source": [
    "classify(y)"
   ]
  }
 ],
 "metadata": {
  "kernelspec": {
   "display_name": "Python 3",
   "language": "python",
   "name": "python3"
  },
  "language_info": {
   "codemirror_mode": {
    "name": "ipython",
    "version": 3
   },
   "file_extension": ".py",
   "mimetype": "text/x-python",
   "name": "python",
   "nbconvert_exporter": "python",
   "pygments_lexer": "ipython3",
   "version": "3.12.6"
  }
 },
 "nbformat": 4,
 "nbformat_minor": 5
}
