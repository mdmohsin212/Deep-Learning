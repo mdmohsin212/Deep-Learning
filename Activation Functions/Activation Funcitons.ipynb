{
 "cells": [
  {
   "cell_type": "code",
   "execution_count": 1,
   "id": "a84e2173",
   "metadata": {},
   "outputs": [],
   "source": [
    "import numpy as np"
   ]
  },
  {
   "cell_type": "markdown",
   "id": "b3ecf799",
   "metadata": {},
   "source": [
    "#### ReLu (Hidden Layer)"
   ]
  },
  {
   "cell_type": "code",
   "execution_count": 2,
   "id": "8771a74d",
   "metadata": {},
   "outputs": [],
   "source": [
    "def relu(x):\n",
    "    return np.maximum(0,x)"
   ]
  },
  {
   "cell_type": "code",
   "execution_count": 3,
   "id": "e87acf0b",
   "metadata": {},
   "outputs": [
    {
     "data": {
      "text/plain": [
       "np.int64(10)"
      ]
     },
     "execution_count": 3,
     "metadata": {},
     "output_type": "execute_result"
    }
   ],
   "source": [
    "relu(10)"
   ]
  },
  {
   "cell_type": "code",
   "execution_count": 7,
   "id": "f6337a0e",
   "metadata": {},
   "outputs": [
    {
     "data": {
      "text/plain": [
       "array([9, 1, 0, 5])"
      ]
     },
     "execution_count": 7,
     "metadata": {},
     "output_type": "execute_result"
    }
   ],
   "source": [
    "relu(np.array([9, 1, -1, 5]))"
   ]
  },
  {
   "cell_type": "markdown",
   "id": "c17d033e",
   "metadata": {},
   "source": [
    "#### Leaky ReLu (Hidden Layer)"
   ]
  },
  {
   "cell_type": "code",
   "execution_count": 8,
   "id": "abf7081e",
   "metadata": {},
   "outputs": [],
   "source": [
    "def leaky_ReLu(x, alpha=0.01):\n",
    "    return np.where(x > 0, x, x * alpha)"
   ]
  },
  {
   "cell_type": "code",
   "execution_count": 9,
   "id": "febe1575",
   "metadata": {},
   "outputs": [
    {
     "data": {
      "text/plain": [
       "array(5.)"
      ]
     },
     "execution_count": 9,
     "metadata": {},
     "output_type": "execute_result"
    }
   ],
   "source": [
    "leaky_ReLu(5)"
   ]
  },
  {
   "cell_type": "code",
   "execution_count": 10,
   "id": "0069c834",
   "metadata": {},
   "outputs": [
    {
     "data": {
      "text/plain": [
       "array([ 7.  ,  2.  , -0.06,  5.  ])"
      ]
     },
     "execution_count": 10,
     "metadata": {},
     "output_type": "execute_result"
    }
   ],
   "source": [
    "leaky_ReLu(np.array([7, 2, -6, 5]))"
   ]
  },
  {
   "cell_type": "markdown",
   "id": "55a25ed8",
   "metadata": {},
   "source": [
    "#### ELU (Hidden Layer)"
   ]
  },
  {
   "cell_type": "code",
   "execution_count": 11,
   "id": "6dd062fe",
   "metadata": {},
   "outputs": [],
   "source": [
    "def elu(x, alpha=0.01):\n",
    "    return np.where(x > 0, x, alpha * (np.exp(x) - 1))"
   ]
  },
  {
   "cell_type": "code",
   "execution_count": 12,
   "id": "905917ed",
   "metadata": {},
   "outputs": [
    {
     "data": {
      "text/plain": [
       "array(4.)"
      ]
     },
     "execution_count": 12,
     "metadata": {},
     "output_type": "execute_result"
    }
   ],
   "source": [
    "elu(4)"
   ]
  },
  {
   "cell_type": "code",
   "execution_count": 14,
   "id": "751a1dd0",
   "metadata": {},
   "outputs": [
    {
     "data": {
      "text/plain": [
       "array([-0.00632121,  2.        , -0.00993262,  3.        ])"
      ]
     },
     "execution_count": 14,
     "metadata": {},
     "output_type": "execute_result"
    }
   ],
   "source": [
    "elu(np.array([-1, 2, -5, 3]))"
   ]
  },
  {
   "cell_type": "markdown",
   "id": "595366ca",
   "metadata": {},
   "source": [
    "#### Sigmoid (OutPut Layer & BinaryClass Problem)"
   ]
  },
  {
   "cell_type": "code",
   "execution_count": 15,
   "id": "015d9666",
   "metadata": {},
   "outputs": [],
   "source": [
    "def sigmoid(x):\n",
    "    return 1 / (1 + np.exp(-x))"
   ]
  },
  {
   "cell_type": "code",
   "execution_count": 16,
   "id": "ca795efb",
   "metadata": {},
   "outputs": [
    {
     "data": {
      "text/plain": [
       "np.float64(0.9933071490757153)"
      ]
     },
     "execution_count": 16,
     "metadata": {},
     "output_type": "execute_result"
    }
   ],
   "source": [
    "sigmoid(5)"
   ]
  },
  {
   "cell_type": "code",
   "execution_count": 18,
   "id": "f7eafadb",
   "metadata": {},
   "outputs": [
    {
     "data": {
      "text/plain": [
       "array([0.26894142, 0.88079708, 0.00247262, 0.99330715])"
      ]
     },
     "execution_count": 18,
     "metadata": {},
     "output_type": "execute_result"
    }
   ],
   "source": [
    "sigmoid((np.array([-1, 2, -6, 5])))"
   ]
  },
  {
   "cell_type": "markdown",
   "id": "6e60581a",
   "metadata": {},
   "source": [
    "#### Softmax (OutPut Layer & MultiClass Problem)"
   ]
  },
  {
   "cell_type": "code",
   "execution_count": 22,
   "id": "eefc6a54",
   "metadata": {},
   "outputs": [],
   "source": [
    "def softmax(x):\n",
    "    ex = np.exp(x - np.max(x))\n",
    "    return ex / ex.sum()"
   ]
  },
  {
   "cell_type": "code",
   "execution_count": 23,
   "id": "31527bec",
   "metadata": {},
   "outputs": [
    {
     "data": {
      "text/plain": [
       "array([0.62853172, 0.2312239 , 0.14024438])"
      ]
     },
     "execution_count": 23,
     "metadata": {},
     "output_type": "execute_result"
    }
   ],
   "source": [
    "proba = softmax((np.array([2, 1, 0.5])))\n",
    "proba"
   ]
  },
  {
   "cell_type": "code",
   "execution_count": null,
   "id": "c2e9a622",
   "metadata": {},
   "outputs": [],
   "source": []
  }
 ],
 "metadata": {
  "kernelspec": {
   "display_name": "Python 3",
   "language": "python",
   "name": "python3"
  },
  "language_info": {
   "codemirror_mode": {
    "name": "ipython",
    "version": 3
   },
   "file_extension": ".py",
   "mimetype": "text/x-python",
   "name": "python",
   "nbconvert_exporter": "python",
   "pygments_lexer": "ipython3",
   "version": "3.12.6"
  }
 },
 "nbformat": 4,
 "nbformat_minor": 5
}
