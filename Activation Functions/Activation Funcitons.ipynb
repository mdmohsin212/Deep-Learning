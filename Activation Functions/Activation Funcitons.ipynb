{
 "cells": [
  {
   "cell_type": "code",
   "execution_count": 3,
   "id": "a84e2173",
   "metadata": {},
   "outputs": [],
   "source": [
    "import numpy as np"
   ]
  },
  {
   "cell_type": "markdown",
   "id": "b3ecf799",
   "metadata": {},
   "source": [
    "#### ReLu (Hidden Layer)"
   ]
  },
  {
   "cell_type": "code",
   "execution_count": 4,
   "id": "8771a74d",
   "metadata": {},
   "outputs": [],
   "source": [
    "def relu(x):\n",
    "    return np.maximum(0,x)"
   ]
  },
  {
   "cell_type": "code",
   "execution_count": 5,
   "id": "e87acf0b",
   "metadata": {},
   "outputs": [
    {
     "data": {
      "text/plain": [
       "np.int64(10)"
      ]
     },
     "execution_count": 5,
     "metadata": {},
     "output_type": "execute_result"
    }
   ],
   "source": [
    "relu(10)"
   ]
  },
  {
   "cell_type": "code",
   "execution_count": 6,
   "id": "f6337a0e",
   "metadata": {},
   "outputs": [
    {
     "data": {
      "text/plain": [
       "array([9, 1, 0, 5])"
      ]
     },
     "execution_count": 6,
     "metadata": {},
     "output_type": "execute_result"
    }
   ],
   "source": [
    "relu(np.array([9, 1, -1, 5]))"
   ]
  },
  {
   "cell_type": "markdown",
   "id": "c17d033e",
   "metadata": {},
   "source": [
    "#### Leaky ReLu (Hidden Layer)"
   ]
  },
  {
   "cell_type": "code",
   "execution_count": 7,
   "id": "abf7081e",
   "metadata": {},
   "outputs": [],
   "source": [
    "def leaky_ReLu(x, alpha=0.01):\n",
    "    return np.where(x > 0, x, x * alpha)"
   ]
  },
  {
   "cell_type": "code",
   "execution_count": 8,
   "id": "febe1575",
   "metadata": {},
   "outputs": [
    {
     "data": {
      "text/plain": [
       "array(5.)"
      ]
     },
     "execution_count": 8,
     "metadata": {},
     "output_type": "execute_result"
    }
   ],
   "source": [
    "leaky_ReLu(5)"
   ]
  },
  {
   "cell_type": "code",
   "execution_count": 9,
   "id": "0069c834",
   "metadata": {},
   "outputs": [
    {
     "data": {
      "text/plain": [
       "array([ 7.  ,  2.  , -0.06,  5.  ])"
      ]
     },
     "execution_count": 9,
     "metadata": {},
     "output_type": "execute_result"
    }
   ],
   "source": [
    "leaky_ReLu(np.array([7, 2, -6, 5]))"
   ]
  },
  {
   "cell_type": "markdown",
   "id": "55a25ed8",
   "metadata": {},
   "source": [
    "#### ELU (Hidden Layer)"
   ]
  },
  {
   "cell_type": "code",
   "execution_count": 10,
   "id": "6dd062fe",
   "metadata": {},
   "outputs": [],
   "source": [
    "def elu(x, alpha=0.01):\n",
    "    return np.where(x > 0, x, alpha * (np.exp(x) - 1))"
   ]
  },
  {
   "cell_type": "code",
   "execution_count": 11,
   "id": "905917ed",
   "metadata": {},
   "outputs": [
    {
     "data": {
      "text/plain": [
       "array(4.)"
      ]
     },
     "execution_count": 11,
     "metadata": {},
     "output_type": "execute_result"
    }
   ],
   "source": [
    "elu(4)"
   ]
  },
  {
   "cell_type": "code",
   "execution_count": 12,
   "id": "751a1dd0",
   "metadata": {},
   "outputs": [
    {
     "data": {
      "text/plain": [
       "array([-0.00632121,  2.        , -0.00993262,  3.        ])"
      ]
     },
     "execution_count": 12,
     "metadata": {},
     "output_type": "execute_result"
    }
   ],
   "source": [
    "elu(np.array([-1, 2, -5, 3]))"
   ]
  },
  {
   "cell_type": "markdown",
   "id": "595366ca",
   "metadata": {},
   "source": [
    "#### Sigmoid (OutPut Layer & BinaryClass Problem)"
   ]
  },
  {
   "cell_type": "code",
   "execution_count": 13,
   "id": "015d9666",
   "metadata": {},
   "outputs": [],
   "source": [
    "def sigmoid(x):\n",
    "    return 1 / (1 + np.exp(-x))"
   ]
  },
  {
   "cell_type": "code",
   "execution_count": 14,
   "id": "ca795efb",
   "metadata": {},
   "outputs": [
    {
     "data": {
      "text/plain": [
       "np.float64(0.9933071490757153)"
      ]
     },
     "execution_count": 14,
     "metadata": {},
     "output_type": "execute_result"
    }
   ],
   "source": [
    "sigmoid(5)"
   ]
  },
  {
   "cell_type": "code",
   "execution_count": 15,
   "id": "f7eafadb",
   "metadata": {},
   "outputs": [
    {
     "data": {
      "text/plain": [
       "array([0.26894142, 0.88079708, 0.00247262, 0.99330715])"
      ]
     },
     "execution_count": 15,
     "metadata": {},
     "output_type": "execute_result"
    }
   ],
   "source": [
    "sigmoid((np.array([-1, 2, -6, 5])))"
   ]
  },
  {
   "cell_type": "markdown",
   "id": "6e60581a",
   "metadata": {},
   "source": [
    "#### Softmax (OutPut Layer & MultiClass Problem)"
   ]
  },
  {
   "cell_type": "code",
   "execution_count": 16,
   "id": "eefc6a54",
   "metadata": {},
   "outputs": [],
   "source": [
    "def softmax(x):\n",
    "    ex = np.exp(x - np.max(x))\n",
    "    return ex / ex.sum()"
   ]
  },
  {
   "cell_type": "code",
   "execution_count": 17,
   "id": "31527bec",
   "metadata": {},
   "outputs": [
    {
     "data": {
      "text/plain": [
       "array([0.62853172, 0.2312239 , 0.14024438])"
      ]
     },
     "execution_count": 17,
     "metadata": {},
     "output_type": "execute_result"
    }
   ],
   "source": [
    "proba = softmax((np.array([2, 1, 0.5])))\n",
    "proba"
   ]
  },
  {
   "cell_type": "markdown",
   "id": "827a12bf",
   "metadata": {},
   "source": [
    "#### Swish (Hidden Layer)"
   ]
  },
  {
   "cell_type": "code",
   "execution_count": null,
   "id": "c2e9a622",
   "metadata": {},
   "outputs": [],
   "source": [
    "def swish(x, beta=1.0):\n",
    "    return x * sigmoid(beta * x)"
   ]
  },
  {
   "cell_type": "code",
   "execution_count": 19,
   "id": "942a45dd",
   "metadata": {},
   "outputs": [
    {
     "data": {
      "text/plain": [
       "np.float64(4.966535745378576)"
      ]
     },
     "execution_count": 19,
     "metadata": {},
     "output_type": "execute_result"
    }
   ],
   "source": [
    "swish(5)"
   ]
  },
  {
   "cell_type": "code",
   "execution_count": 20,
   "id": "77315ae3",
   "metadata": {},
   "outputs": [
    {
     "data": {
      "text/plain": [
       "array([-0.26894142,  1.76159416, -0.03346425,  2.85772238])"
      ]
     },
     "execution_count": 20,
     "metadata": {},
     "output_type": "execute_result"
    }
   ],
   "source": [
    "swish(np.array([-1, 2, -5, 3]))"
   ]
  },
  {
   "cell_type": "markdown",
   "id": "892d2df9",
   "metadata": {},
   "source": [
    "#### Linear (Output Layer)"
   ]
  },
  {
   "cell_type": "code",
   "execution_count": 21,
   "id": "3743cde5",
   "metadata": {},
   "outputs": [],
   "source": [
    "def linear(x):\n",
    "    return x"
   ]
  },
  {
   "cell_type": "code",
   "execution_count": 22,
   "id": "42138241",
   "metadata": {},
   "outputs": [
    {
     "data": {
      "text/plain": [
       "10"
      ]
     },
     "execution_count": 22,
     "metadata": {},
     "output_type": "execute_result"
    }
   ],
   "source": [
    "linear(10)"
   ]
  },
  {
   "cell_type": "markdown",
   "id": "f895326f",
   "metadata": {},
   "source": [
    "#### Tanh (Hyperbolic Tangent)"
   ]
  },
  {
   "cell_type": "code",
   "execution_count": 23,
   "id": "5457e167",
   "metadata": {},
   "outputs": [],
   "source": [
    "def tanh(x):\n",
    "    return np.tanh(x)"
   ]
  },
  {
   "cell_type": "code",
   "execution_count": 24,
   "id": "a0fa84b9",
   "metadata": {},
   "outputs": [
    {
     "data": {
      "text/plain": [
       "np.float64(0.9999999958776927)"
      ]
     },
     "execution_count": 24,
     "metadata": {},
     "output_type": "execute_result"
    }
   ],
   "source": [
    "tanh(10)"
   ]
  },
  {
   "cell_type": "code",
   "execution_count": 25,
   "id": "bae22716",
   "metadata": {},
   "outputs": [
    {
     "data": {
      "text/plain": [
       "array([-0.76159416,  0.        ,  0.76159416,  0.96402758])"
      ]
     },
     "execution_count": 25,
     "metadata": {},
     "output_type": "execute_result"
    }
   ],
   "source": [
    "tanh(np.array([-1, 0, 1, 2]))"
   ]
  },
  {
   "cell_type": "code",
   "execution_count": 26,
   "id": "8d68b038",
   "metadata": {},
   "outputs": [],
   "source": [
    "def tanh2(x):\n",
    "    result = (np.exp(x) - np.exp(-x)) / (np.exp(x) + np.exp(-x))\n",
    "    return result"
   ]
  },
  {
   "cell_type": "code",
   "execution_count": 27,
   "id": "c04860ca",
   "metadata": {},
   "outputs": [
    {
     "data": {
      "text/plain": [
       "np.float64(0.9999999958776926)"
      ]
     },
     "execution_count": 27,
     "metadata": {},
     "output_type": "execute_result"
    }
   ],
   "source": [
    "tanh2(10)"
   ]
  }
 ],
 "metadata": {
  "kernelspec": {
   "display_name": "Python 3",
   "language": "python",
   "name": "python3"
  },
  "language_info": {
   "codemirror_mode": {
    "name": "ipython",
    "version": 3
   },
   "file_extension": ".py",
   "mimetype": "text/x-python",
   "name": "python",
   "nbconvert_exporter": "python",
   "pygments_lexer": "ipython3",
   "version": "3.12.6"
  }
 },
 "nbformat": 4,
 "nbformat_minor": 5
}
