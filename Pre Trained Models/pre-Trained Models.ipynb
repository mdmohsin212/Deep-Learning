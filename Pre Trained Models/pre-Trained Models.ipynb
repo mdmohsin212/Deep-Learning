{
 "cells": [
  {
   "cell_type": "code",
   "execution_count": 1,
   "metadata": {
    "executionInfo": {
     "elapsed": 8,
     "status": "ok",
     "timestamp": 1754793431889,
     "user": {
      "displayName": "Md Mohsin",
      "userId": "05436784997573567587"
     },
     "user_tz": -360
    },
    "id": "Lo3sd2dR1eAq"
   },
   "outputs": [],
   "source": [
    "from keras.applications import VGG16\n",
    "from keras.preprocessing import image\n",
    "from keras.applications.vgg16 import preprocess_input, decode_predictions"
   ]
  },
  {
   "cell_type": "code",
   "execution_count": 2,
   "metadata": {
    "colab": {
     "base_uri": "https://localhost:8080/"
    },
    "executionInfo": {
     "elapsed": 7748,
     "status": "ok",
     "timestamp": 1754793513814,
     "user": {
      "displayName": "Md Mohsin",
      "userId": "05436784997573567587"
     },
     "user_tz": -360
    },
    "id": "XdATtVOA1tIr",
    "outputId": "1b7863ef-0af2-4fcb-b116-2b05dff5eee2"
   },
   "outputs": [
    {
     "name": "stdout",
     "output_type": "stream",
     "text": [
      "Downloading data from https://storage.googleapis.com/tensorflow/keras-applications/vgg16/vgg16_weights_tf_dim_ordering_tf_kernels.h5\n",
      "\u001b[1m553467096/553467096\u001b[0m \u001b[32m━━━━━━━━━━━━━━━━━━━━\u001b[0m\u001b[37m\u001b[0m \u001b[1m3s\u001b[0m 0us/step\n"
     ]
    }
   ],
   "source": [
    "# Load the vgg16 pre trained model\n",
    "\n",
    "model = VGG16(weights='imagenet', include_top=True, input_shape=(224, 224, 3))"
   ]
  },
  {
   "cell_type": "code",
   "execution_count": 8,
   "metadata": {
    "executionInfo": {
     "elapsed": 23,
     "status": "ok",
     "timestamp": 1754793881530,
     "user": {
      "displayName": "Md Mohsin",
      "userId": "05436784997573567587"
     },
     "user_tz": -360
    },
    "id": "V9h6krBL1_P2"
   },
   "outputs": [],
   "source": [
    "import numpy as np\n",
    "\n",
    "img_path = 'light.jpg'\n",
    "\n",
    "img = image.load_img(img_path, target_size=(224,224))\n",
    "x = image.img_to_array(img)\n",
    "x = np.expand_dims(x, axis=0)\n",
    "x = preprocess_input(x)"
   ]
  },
  {
   "cell_type": "code",
   "execution_count": 9,
   "metadata": {
    "colab": {
     "base_uri": "https://localhost:8080/"
    },
    "executionInfo": {
     "elapsed": 869,
     "status": "ok",
     "timestamp": 1754793883134,
     "user": {
      "displayName": "Md Mohsin",
      "userId": "05436784997573567587"
     },
     "user_tz": -360
    },
    "id": "xuKOcxjj2qcw",
    "outputId": "d1f0a896-073f-4067-8f06-1a1add9d0260"
   },
   "outputs": [
    {
     "name": "stdout",
     "output_type": "stream",
     "text": [
      "\u001b[1m1/1\u001b[0m \u001b[32m━━━━━━━━━━━━━━━━━━━━\u001b[0m\u001b[37m\u001b[0m \u001b[1m1s\u001b[0m 790ms/step\n"
     ]
    }
   ],
   "source": [
    "pred = model.predict(x)"
   ]
  },
  {
   "cell_type": "code",
   "execution_count": 10,
   "metadata": {
    "colab": {
     "base_uri": "https://localhost:8080/"
    },
    "executionInfo": {
     "elapsed": 10,
     "status": "ok",
     "timestamp": 1754793883147,
     "user": {
      "displayName": "Md Mohsin",
      "userId": "05436784997573567587"
     },
     "user_tz": -360
    },
    "id": "1mxJUKB32wJa",
    "outputId": "0fba0335-81c0-413d-ade8-b0472e88ee95"
   },
   "outputs": [
    {
     "data": {
      "text/plain": [
       "[[('n03666591', 'lighter', np.float32(0.99450064)),\n",
       "  ('n03794056', 'mousetrap', np.float32(0.0012316256)),\n",
       "  ('n03729826', 'matchstick', np.float32(0.00095267635)),\n",
       "  ('n03908714', 'pencil_sharpener', np.float32(0.00066135055)),\n",
       "  ('n03494278', 'harmonica', np.float32(0.0003457978))]]"
      ]
     },
     "execution_count": 10,
     "metadata": {},
     "output_type": "execute_result"
    }
   ],
   "source": [
    "decode_predictions(pred)"
   ]
  }
 ],
 "metadata": {
  "colab": {
   "authorship_tag": "ABX9TyM3C7oD+lZdDw0tAwW2u8+9",
   "provenance": []
  },
  "kernelspec": {
   "display_name": "Python 3",
   "name": "python3"
  },
  "language_info": {
   "name": "python"
  }
 },
 "nbformat": 4,
 "nbformat_minor": 0
}
