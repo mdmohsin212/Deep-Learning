{
 "cells": [
  {
   "cell_type": "code",
   "execution_count": 1,
   "id": "980e0449",
   "metadata": {},
   "outputs": [],
   "source": [
    "import torch"
   ]
  },
  {
   "cell_type": "markdown",
   "id": "3a269b31",
   "metadata": {},
   "source": [
    "#### Creating Tensor"
   ]
  },
  {
   "cell_type": "code",
   "execution_count": 2,
   "id": "bc30801f",
   "metadata": {},
   "outputs": [
    {
     "data": {
      "text/plain": [
       "tensor([1, 2, 3])"
      ]
     },
     "execution_count": 2,
     "metadata": {},
     "output_type": "execute_result"
    }
   ],
   "source": [
    "tensor_from_list = torch.tensor([1, 2, 3])\n",
    "tensor_from_list"
   ]
  },
  {
   "cell_type": "code",
   "execution_count": 3,
   "id": "3e616c4f",
   "metadata": {},
   "outputs": [],
   "source": [
    "import numpy as np\n",
    "np_array = np.array([[1, 2, 3], [4, 5, 6]])\n",
    "tensor_from_numpy = torch.tensor(np_array)"
   ]
  },
  {
   "cell_type": "code",
   "execution_count": 4,
   "id": "431b53e1",
   "metadata": {},
   "outputs": [
    {
     "data": {
      "text/plain": [
       "tensor([[1, 2, 3],\n",
       "        [4, 5, 6]])"
      ]
     },
     "execution_count": 4,
     "metadata": {},
     "output_type": "execute_result"
    }
   ],
   "source": [
    "tensor_from_numpy"
   ]
  },
  {
   "cell_type": "code",
   "execution_count": 5,
   "id": "a50ca0ea",
   "metadata": {},
   "outputs": [
    {
     "data": {
      "text/plain": [
       "tensor([[0., 0., 0.],\n",
       "        [0., 0., 0.],\n",
       "        [0., 0., 0.]])"
      ]
     },
     "execution_count": 5,
     "metadata": {},
     "output_type": "execute_result"
    }
   ],
   "source": [
    "tensor_zeros = torch.zeros(3, 3)\n",
    "tensor_zeros"
   ]
  },
  {
   "cell_type": "code",
   "execution_count": 6,
   "id": "689f73e9",
   "metadata": {},
   "outputs": [
    {
     "data": {
      "text/plain": [
       "tensor([[1., 1., 1.],\n",
       "        [1., 1., 1.],\n",
       "        [1., 1., 1.]])"
      ]
     },
     "execution_count": 6,
     "metadata": {},
     "output_type": "execute_result"
    }
   ],
   "source": [
    "tensor_ones = torch.ones(3, 3)\n",
    "tensor_ones"
   ]
  },
  {
   "cell_type": "markdown",
   "id": "2db305bb",
   "metadata": {},
   "source": [
    "##### Random Tensor"
   ]
  },
  {
   "cell_type": "code",
   "execution_count": null,
   "id": "3b052724",
   "metadata": {},
   "outputs": [
    {
     "data": {
      "text/plain": [
       "tensor([[0.6524, 0.7136, 0.6635, 0.1500],\n",
       "        [0.7482, 0.2321, 0.8349, 0.4720],\n",
       "        [0.8170, 0.7407, 0.2547, 0.4762],\n",
       "        [0.3888, 0.4981, 0.7078, 0.2016]])"
      ]
     },
     "execution_count": 8,
     "metadata": {},
     "output_type": "execute_result"
    }
   ],
   "source": [
    "random_tensor = torch.rand(4, 4)\n",
    "random_tensor"
   ]
  },
  {
   "cell_type": "code",
   "execution_count": 9,
   "id": "7740415a",
   "metadata": {},
   "outputs": [
    {
     "data": {
      "text/plain": [
       "tensor([[-1.0847,  2.3136, -1.0794, -0.5078],\n",
       "        [-0.7854,  0.3242,  2.1913,  0.6969],\n",
       "        [ 1.5219, -0.4589,  0.0502,  0.2678],\n",
       "        [ 0.6331, -0.2730,  0.3886, -0.5684]])"
      ]
     },
     "execution_count": 9,
     "metadata": {},
     "output_type": "execute_result"
    }
   ],
   "source": [
    "normal_tensor = torch.randn(4, 4)\n",
    "normal_tensor"
   ]
  },
  {
   "cell_type": "markdown",
   "id": "06342352",
   "metadata": {},
   "source": [
    "#### Datatype and Devices"
   ]
  },
  {
   "cell_type": "code",
   "execution_count": 10,
   "id": "7e13ef38",
   "metadata": {},
   "outputs": [
    {
     "data": {
      "text/plain": [
       "tensor([1., 2., 3.])"
      ]
     },
     "execution_count": 10,
     "metadata": {},
     "output_type": "execute_result"
    }
   ],
   "source": [
    "float_tensor = torch.tensor([1, 2, 3], dtype=torch.float32)\n",
    "\n",
    "float_tensor"
   ]
  },
  {
   "cell_type": "code",
   "execution_count": null,
   "id": "6fb7ca23",
   "metadata": {},
   "outputs": [],
   "source": [
    "gpu_tensor = torch.tensor([1, 2, 3], device='cuda')"
   ]
  },
  {
   "cell_type": "markdown",
   "id": "bcb0016e",
   "metadata": {},
   "source": [
    "#### Tensor Operation"
   ]
  },
  {
   "cell_type": "code",
   "execution_count": 11,
   "id": "2abc8bf8",
   "metadata": {},
   "outputs": [
    {
     "data": {
      "text/plain": [
       "tensor([5, 7, 9])"
      ]
     },
     "execution_count": 11,
     "metadata": {},
     "output_type": "execute_result"
    }
   ],
   "source": [
    "tensor_a = torch.tensor([1, 2, 3])\n",
    "tensor_b = torch.tensor([4, 5, 6])\n",
    "\n",
    "sum_tensor = tensor_a + tensor_b\n",
    "\n",
    "sum_tensor"
   ]
  },
  {
   "cell_type": "code",
   "execution_count": 15,
   "id": "e41b8e90",
   "metadata": {},
   "outputs": [
    {
     "data": {
      "text/plain": [
       "tensor([-3, -3, -3])"
      ]
     },
     "execution_count": 15,
     "metadata": {},
     "output_type": "execute_result"
    }
   ],
   "source": [
    "sub_tensor = tensor_a - tensor_b\n",
    "\n",
    "sub_tensor"
   ]
  },
  {
   "cell_type": "code",
   "execution_count": 16,
   "id": "2bdcd84a",
   "metadata": {},
   "outputs": [
    {
     "data": {
      "text/plain": [
       "tensor([0.2500, 0.4000, 0.5000])"
      ]
     },
     "execution_count": 16,
     "metadata": {},
     "output_type": "execute_result"
    }
   ],
   "source": [
    "devide_tensor = tensor_a / tensor_b\n",
    "\n",
    "devide_tensor"
   ]
  },
  {
   "cell_type": "code",
   "execution_count": 17,
   "id": "2a0771d8",
   "metadata": {},
   "outputs": [
    {
     "data": {
      "text/plain": [
       "tensor([ 4, 10, 18])"
      ]
     },
     "execution_count": 17,
     "metadata": {},
     "output_type": "execute_result"
    }
   ],
   "source": [
    "multiply_tensor = tensor_a * tensor_b\n",
    "\n",
    "multiply_tensor"
   ]
  },
  {
   "cell_type": "code",
   "execution_count": 14,
   "id": "80d26223",
   "metadata": {},
   "outputs": [
    {
     "data": {
      "text/plain": [
       "tensor([[14, 17],\n",
       "        [32, 39]])"
      ]
     },
     "execution_count": 14,
     "metadata": {},
     "output_type": "execute_result"
    }
   ],
   "source": [
    "tensor_aa = torch.tensor([[1, 2], [3, 4]])\n",
    "tensor_bb = torch.tensor([[4, 5], [5, 6]])\n",
    "\n",
    "result = torch.matmul(tensor_aa, tensor_bb)\n",
    "\n",
    "result"
   ]
  },
  {
   "cell_type": "markdown",
   "id": "9630b5b9",
   "metadata": {},
   "source": [
    "#### Indexing & Slicing"
   ]
  },
  {
   "cell_type": "code",
   "execution_count": 19,
   "id": "cc78e109",
   "metadata": {},
   "outputs": [
    {
     "data": {
      "text/plain": [
       "tensor(2)"
      ]
     },
     "execution_count": 19,
     "metadata": {},
     "output_type": "execute_result"
    }
   ],
   "source": [
    "tensor = torch.tensor([[1, 2], [3, 4]])\n",
    "element = tensor[0][1]\n",
    "element"
   ]
  },
  {
   "cell_type": "code",
   "execution_count": 20,
   "id": "549f603f",
   "metadata": {},
   "outputs": [
    {
     "data": {
      "text/plain": [
       "tensor([[2],\n",
       "        [4]])"
      ]
     },
     "execution_count": 20,
     "metadata": {},
     "output_type": "execute_result"
    }
   ],
   "source": [
    "tensor2 = torch.tensor([[1, 2, 4], [4, 5, 6], [7, 8, 9]])\n",
    "\n",
    "slic_tensor = tensor[:, 1:3]\n",
    "\n",
    "slic_tensor"
   ]
  },
  {
   "cell_type": "code",
   "execution_count": 21,
   "id": "5a1408c1",
   "metadata": {},
   "outputs": [
    {
     "name": "stdout",
     "output_type": "stream",
     "text": [
      "tensor([[1, 2],\n",
      "        [5, 6]])\n"
     ]
    }
   ],
   "source": [
    "tensor3 = torch.tensor([[1, 2], [3, 4], [5, 6]])\n",
    "\n",
    "print(tensor3[[0, 2], :])"
   ]
  },
  {
   "cell_type": "markdown",
   "id": "a856d311",
   "metadata": {},
   "source": [
    "#### Broadcasting"
   ]
  },
  {
   "cell_type": "code",
   "execution_count": 22,
   "id": "27428a2b",
   "metadata": {},
   "outputs": [
    {
     "data": {
      "text/plain": [
       "tensor([[3, 4],\n",
       "        [5, 6]])"
      ]
     },
     "execution_count": 22,
     "metadata": {},
     "output_type": "execute_result"
    }
   ],
   "source": [
    "tensor1 = torch.tensor([[1, 2], [3, 4]])\n",
    "tensor2 = torch.tensor([2])\n",
    "\n",
    "result2 = tensor1 + tensor2\n",
    "\n",
    "result2"
   ]
  },
  {
   "cell_type": "markdown",
   "id": "a7cd2ed5",
   "metadata": {},
   "source": [
    "#### In-place operation"
   ]
  },
  {
   "cell_type": "code",
   "execution_count": 23,
   "id": "cf8efec4",
   "metadata": {},
   "outputs": [
    {
     "data": {
      "text/plain": [
       "tensor([6, 7, 9])"
      ]
     },
     "execution_count": 23,
     "metadata": {},
     "output_type": "execute_result"
    }
   ],
   "source": [
    "tensor0 = torch.tensor([1, 2, 4])\n",
    "tensor0.add_(5)\n",
    "\n",
    "tensor0"
   ]
  }
 ],
 "metadata": {
  "kernelspec": {
   "display_name": "Python 3",
   "language": "python",
   "name": "python3"
  },
  "language_info": {
   "codemirror_mode": {
    "name": "ipython",
    "version": 3
   },
   "file_extension": ".py",
   "mimetype": "text/x-python",
   "name": "python",
   "nbconvert_exporter": "python",
   "pygments_lexer": "ipython3",
   "version": "3.12.6"
  }
 },
 "nbformat": 4,
 "nbformat_minor": 5
}
